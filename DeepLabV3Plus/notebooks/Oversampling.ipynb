{
 "cells": [
  {
   "cell_type": "markdown",
   "metadata": {},
   "source": [
    "This notebook is for testing the oversampling and to generate the weights to be used"
   ]
  },
  {
   "cell_type": "code",
   "execution_count": 1,
   "metadata": {},
   "outputs": [],
   "source": [
    "from config.configs_kf import *\n",
    "import numpy as np\n",
    "import matplotlib.pyplot as plt\n",
    "from torch.utils import data\n",
    "from torch.utils.data import DataLoader, WeightedRandomSampler"
   ]
  },
  {
   "cell_type": "markdown",
   "metadata": {},
   "source": [
    "## Test on the reduced dataset"
   ]
  },
  {
   "cell_type": "code",
   "execution_count": 2,
   "metadata": {},
   "outputs": [
    {
     "name": "stdout",
     "output_type": "stream",
     "text": [
      "train set ------- 500\n",
      "val set --------- 250\n"
     ]
    }
   ],
   "source": [
    "train_args = agriculture_configs(net_name='Test',\n",
    "                                 data='Agriculture',\n",
    "                                 bands_list=['NIR', 'RGB'],\n",
    "                                 kf=0, k_folder=0,\n",
    "                                 note='reproduce_ACW_loss2_adax'\n",
    "                                 )\n",
    "\n",
    "train_args.input_size = [512, 512]\n",
    "train_args.scale_rate = 1.  # 256./512.  # 448.0/512.0 #1.0/1.0\n",
    "train_args.val_size = [512, 512]\n",
    "train_args.node_size = (32, 32)\n",
    "train_args.train_batch = 10\n",
    "train_args.val_batch = 10\n",
    "\n",
    "train_args.lr = 1.5e-4 / np.sqrt(3)\n",
    "train_args.weight_decay = 2e-5\n",
    "\n",
    "train_args.lr_decay = 0.9\n",
    "train_args.max_iter = 1e8\n",
    "\n",
    "train_args.snapshot = ''\n",
    "\n",
    "train_args.print_freq = 1\n",
    "train_args.save_pred = False\n",
    "train_args.extra_augment = True\n",
    "train_args.classes_augment = [6]\n",
    "# output training configuration to a text file\n",
    "train_args.ckpt_path=os.path.abspath(os.curdir)\n",
    "train_dst, val_dst = train_args.get_dataset()"
   ]
  },
  {
   "cell_type": "code",
   "execution_count": 3,
   "metadata": {},
   "outputs": [],
   "source": [
    "# Dataset Statistics\n",
    "px_counts = np.zeros(6)\n",
    "im_counts = np.zeros(6)\n",
    "\n",
    "for img, mask in train_dst:\n",
    "    mask_arr = mask.numpy()\n",
    "    for i in range(1, len(px_counts) + 1):\n",
    "        px_counts[i - 1] += np.sum(mask_arr == i)\n",
    "        if i in mask_arr:\n",
    "            im_counts[i - 1] += 1    "
   ]
  },
  {
   "cell_type": "code",
   "execution_count": 4,
   "metadata": {},
   "outputs": [
    {
     "name": "stdout",
     "output_type": "stream",
     "text": [
      "[1.07786263e+08 2.61838680e+07 7.46255100e+06 5.61829730e+07\n",
      " 4.01566930e+07 5.66276707e+08]\n",
      "[0.13405434 0.03256501 0.00928121 0.06987506 0.04994309 0.70428129]\n"
     ]
    }
   ],
   "source": [
    "print(px_counts)\n",
    "px_prop = px_counts / sum(px_counts)\n",
    "print(px_prop)"
   ]
  },
  {
   "cell_type": "code",
   "execution_count": 8,
   "metadata": {},
   "outputs": [
    {
     "name": "stdout",
     "output_type": "stream",
     "text": [
      "[ 34.  61.   8.  27.  54. 305.]\n",
      "[0.068 0.122 0.016 0.054 0.108 0.61 ]\n"
     ]
    }
   ],
   "source": [
    "print(im_counts)\n",
    "im_prop = im_counts / len(train_dst)\n",
    "print(im_prop)"
   ]
  },
  {
   "cell_type": "code",
   "execution_count": 9,
   "metadata": {},
   "outputs": [
    {
     "name": "stdout",
     "output_type": "stream",
     "text": [
      "[ 2.45098039  1.36612022 10.41666667  3.08641975  1.54320988  0.27322404]\n"
     ]
    }
   ],
   "source": [
    "# Generate class weights\n",
    "classes_weights = (1/6) / im_prop\n",
    "print(classes_weights)"
   ]
  },
  {
   "cell_type": "code",
   "execution_count": 11,
   "metadata": {},
   "outputs": [],
   "source": [
    "# Generate sample weights\n",
    "sample_weights = np.zeros(len(train_dst))\n",
    "index = 0\n",
    "for img, mask in train_dst:\n",
    "    mask_array = mask.numpy()\n",
    "    sample_weights[index] = 0\n",
    "    for class_label in range(len(classes_weights)):\n",
    "        sample_weights[index] += np.sum(mask_array == (class_label + 1))*classes_weights[class_label]\n",
    "    index += 1"
   ]
  },
  {
   "cell_type": "code",
   "execution_count": 12,
   "metadata": {},
   "outputs": [],
   "source": [
    "# Normalise sample weights\n",
    "sample_weights = sample_weights / np.sum(sample_weights)"
   ]
  },
  {
   "cell_type": "code",
   "execution_count": 13,
   "metadata": {},
   "outputs": [],
   "source": [
    "sampler = WeightedRandomSampler(sample_weights, len(sample_weights))"
   ]
  },
  {
   "cell_type": "code",
   "execution_count": 14,
   "metadata": {},
   "outputs": [],
   "source": [
    "train_loader = DataLoader(dataset=train_dst, batch_size=train_args.train_batch, num_workers=1, sampler=sampler)\n",
    "val_loader = DataLoader(dataset=val_dst, batch_size=train_args.val_batch, num_workers=1)"
   ]
  },
  {
   "cell_type": "code",
   "execution_count": 15,
   "metadata": {},
   "outputs": [],
   "source": [
    "# Verify oversampling\n",
    "px_mass = np.zeros((50, 7))\n",
    "im_mass = np.zeros((50, 7))\n",
    "index = 0\n",
    "for im, mask in train_loader:\n",
    "    px_counts = np.zeros(7)\n",
    "    im_counts = np.zeros(7)\n",
    "    mask_arr = mask.numpy()\n",
    "    for i in range(len(px_counts)):\n",
    "        px_counts[i] = np.sum(mask_arr == i)\n",
    "    for i in range(10):\n",
    "        classes = np.unique(mask_arr)\n",
    "        for cls in classes:\n",
    "            if cls != 255:\n",
    "                im_counts[cls] += 1\n",
    "    px_mass[index, :] = px_counts / np.sum(px_counts)\n",
    "    im_mass[index, :] = im_counts / np.sum(im_counts) \n",
    "    index += 1"
   ]
  },
  {
   "cell_type": "code",
   "execution_count": 16,
   "metadata": {},
   "outputs": [
    {
     "name": "stdout",
     "output_type": "stream",
     "text": [
      "[0.42810918 0.23405675 0.00616118 0.03242297 0.15708847 0.01413643\n",
      " 0.12802502]\n"
     ]
    }
   ],
   "source": [
    "print(px_mass.mean(axis = 0))"
   ]
  },
  {
   "cell_type": "code",
   "execution_count": 17,
   "metadata": {},
   "outputs": [
    {
     "name": "stdout",
     "output_type": "stream",
     "text": [
      "[0.18666667 0.18666667 0.08266667 0.09166667 0.17766667 0.09866667\n",
      " 0.176     ]\n"
     ]
    }
   ],
   "source": [
    "print(im_mass.mean(axis = 0))"
   ]
  },
  {
   "cell_type": "code",
   "execution_count": 18,
   "metadata": {},
   "outputs": [
    {
     "name": "stdout",
     "output_type": "stream",
     "text": [
      "(10, 4, 512, 512)\n",
      "(10, 512, 512)\n"
     ]
    }
   ],
   "source": [
    "x = next(iter(train_loader))\n",
    "images = x[0].numpy()\n",
    "labels = x[1].numpy()\n",
    "print(images.shape)\n",
    "print(labels.shape)"
   ]
  },
  {
   "cell_type": "code",
   "execution_count": 19,
   "metadata": {},
   "outputs": [
    {
     "data": {
      "text/plain": [
       "array([  0,   1,   4,   5,   6, 255])"
      ]
     },
     "execution_count": 19,
     "metadata": {},
     "output_type": "execute_result"
    }
   ],
   "source": [
    "np.unique(labels)"
   ]
  },
  {
   "cell_type": "code",
   "execution_count": 20,
   "metadata": {},
   "outputs": [
    {
     "data": {
      "text/plain": [
       "<matplotlib.image.AxesImage at 0x7ff21ef1a220>"
      ]
     },
     "execution_count": 20,
     "metadata": {},
     "output_type": "execute_result"
    },
    {
     "data": {
      "image/png": "[encoded data removed]",
      "text/plain": [
       "<Figure size 432x288 with 1 Axes>"
      ]
     },
     "metadata": {
      "needs_background": "light"
     },
     "output_type": "display_data"
    }
   ],
   "source": [
    "sample_image = images[6, 0:3, :, :].transpose(1,2,0)\n",
    "plt.imshow(sample_image)"
   ]
  },
  {
   "cell_type": "markdown",
   "metadata": {},
   "source": [
    "## Compute weights for Full dataset"
   ]
  },
  {
   "cell_type": "code",
   "execution_count": 24,
   "metadata": {},
   "outputs": [],
   "source": [
    "# Computed on Dataset/data_notebook.ipynb - Sparsity Analysis\n",
    "img_mass = np.array([0.14, 0.07, 0.02, 0.06, 0.14, 0.70])\n",
    "px_counts = [110102182, 24694946, 7317282, 55115831, 41950625, 505948881]"
   ]
  },
  {
   "cell_type": "code",
   "execution_count": 25,
   "metadata": {},
   "outputs": [
    {
     "name": "stdout",
     "output_type": "stream",
     "text": [
      "[1.19047619 2.38095238 8.33333333 2.77777778 1.19047619 0.23809524]\n"
     ]
    }
   ],
   "source": [
    "weights1 = (1/6) / img_mass\n",
    "print(weights1)"
   ]
  },
  {
   "cell_type": "code",
   "execution_count": 27,
   "metadata": {},
   "outputs": [
    {
     "name": "stdout",
     "output_type": "stream",
     "text": [
      "[0.14776243 0.03314181 0.00982014 0.0739681  0.05629976 0.67900776]\n"
     ]
    }
   ],
   "source": [
    "px_mass = px_counts / np.sum(px_counts)\n",
    "print(px_mass)"
   ]
  },
  {
   "cell_type": "code",
   "execution_count": 30,
   "metadata": {},
   "outputs": [
    {
     "name": "stdout",
     "output_type": "stream",
     "text": [
      "[ 1.12793669  5.02889503 16.97191541  2.2532236   2.96034424  0.2454562 ]\n"
     ]
    }
   ],
   "source": [
    "weights2 = (1/6) / px_mass\n",
    "print(weights2)"
   ]
  },
  {
   "cell_type": "code",
   "execution_count": 32,
   "metadata": {},
   "outputs": [
    {
     "name": "stdout",
     "output_type": "stream",
     "text": [
      "[ 4.59526661 20.48795251 69.14437369  9.17973787 12.06058029  1.        ]\n"
     ]
    }
   ],
   "source": [
    "weights3 = np.max(px_counts) / px_counts\n",
    "print(weights3)"
   ]
  }
 ],
 "metadata": {
  "kernelspec": {
   "display_name": "Python 3",
   "language": "python",
   "name": "python3"
  },
  "language_info": {
   "codemirror_mode": {
    "name": "ipython",
    "version": 3
   },
   "file_extension": ".py",
   "mimetype": "text/x-python",
   "name": "python",
   "nbconvert_exporter": "python",
   "pygments_lexer": "ipython3",
   "version": "3.8.3"
  }
 },
 "nbformat": 4,
 "nbformat_minor": 4
}
