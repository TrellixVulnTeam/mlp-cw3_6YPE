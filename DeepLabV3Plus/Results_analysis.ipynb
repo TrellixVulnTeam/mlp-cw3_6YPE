{
 "cells": [
  {
   "cell_type": "code",
   "execution_count": 35,
   "metadata": {},
   "outputs": [],
   "source": [
    "import pandas as pd\n",
    "import numpy as np\n",
    "import os\n",
    "import  matplotlib.pyplot as plt\n",
    "import seaborn as sn"
   ]
  },
  {
   "cell_type": "markdown",
   "metadata": {},
   "source": [
    "## Training Progress"
   ]
  },
  {
   "cell_type": "code",
   "execution_count": 3,
   "metadata": {},
   "outputs": [],
   "source": [
    "progress_folder = os.path.join(\"results/progress\")"
   ]
  },
  {
   "cell_type": "markdown",
   "metadata": {},
   "source": [
    "## OS 16"
   ]
  },
  {
   "cell_type": "code",
   "execution_count": 15,
   "metadata": {},
   "outputs": [],
   "source": [
    "progress_os_16 = os.path.join(progress_folder, 'os_16/')"
   ]
  },
  {
   "cell_type": "code",
   "execution_count": 23,
   "metadata": {},
   "outputs": [
    {
     "data": {
      "text/html": [
       "<div>\n",
       "<style scoped>\n",
       "    .dataframe tbody tr th:only-of-type {\n",
       "        vertical-align: middle;\n",
       "    }\n",
       "\n",
       "    .dataframe tbody tr th {\n",
       "        vertical-align: top;\n",
       "    }\n",
       "\n",
       "    .dataframe thead th {\n",
       "        text-align: right;\n",
       "    }\n",
       "</style>\n",
       "<table border=\"1\" class=\"dataframe\">\n",
       "  <thead>\n",
       "    <tr style=\"text-align: right;\">\n",
       "      <th></th>\n",
       "      <th>Epochs</th>\n",
       "      <th>Iterations</th>\n",
       "      <th>Loss</th>\n",
       "    </tr>\n",
       "  </thead>\n",
       "  <tbody>\n",
       "    <tr>\n",
       "      <th>0</th>\n",
       "      <td>1</td>\n",
       "      <td>10</td>\n",
       "      <td>1.583485</td>\n",
       "    </tr>\n",
       "    <tr>\n",
       "      <th>1</th>\n",
       "      <td>1</td>\n",
       "      <td>20</td>\n",
       "      <td>0.942751</td>\n",
       "    </tr>\n",
       "    <tr>\n",
       "      <th>2</th>\n",
       "      <td>1</td>\n",
       "      <td>30</td>\n",
       "      <td>0.671787</td>\n",
       "    </tr>\n",
       "    <tr>\n",
       "      <th>3</th>\n",
       "      <td>1</td>\n",
       "      <td>40</td>\n",
       "      <td>0.651469</td>\n",
       "    </tr>\n",
       "    <tr>\n",
       "      <th>4</th>\n",
       "      <td>1</td>\n",
       "      <td>50</td>\n",
       "      <td>0.627668</td>\n",
       "    </tr>\n",
       "  </tbody>\n",
       "</table>\n",
       "</div>"
      ],
      "text/plain": [
       "   Epochs  Iterations      Loss\n",
       "0       1          10  1.583485\n",
       "1       1          20  0.942751\n",
       "2       1          30  0.671787\n",
       "3       1          40  0.651469\n",
       "4       1          50  0.627668"
      ]
     },
     "execution_count": 23,
     "metadata": {},
     "output_type": "execute_result"
    }
   ],
   "source": [
    "train_results = pd.read_csv(os.path.join(progress_os_16, 'train_results.csv'))\n",
    "train_results.head()"
   ]
  },
  {
   "cell_type": "code",
   "execution_count": 22,
   "metadata": {},
   "outputs": [
    {
     "data": {
      "text/plain": [
       "[<matplotlib.lines.Line2D at 0x7fa8de154c70>]"
      ]
     },
     "execution_count": 22,
     "metadata": {},
     "output_type": "execute_result"
    },
    {
     "data": {
      "image/png": "[encoded data removed]",
      "text/plain": [
       "<Figure size 432x288 with 1 Axes>"
      ]
     },
     "metadata": {
      "needs_background": "light"
     },
     "output_type": "display_data"
    }
   ],
   "source": [
    "plt.plot(train_results.Iterations, train_results.Loss)"
   ]
  },
  {
   "cell_type": "code",
   "execution_count": 24,
   "metadata": {},
   "outputs": [
    {
     "data": {
      "text/html": [
       "<div>\n",
       "<style scoped>\n",
       "    .dataframe tbody tr th:only-of-type {\n",
       "        vertical-align: middle;\n",
       "    }\n",
       "\n",
       "    .dataframe tbody tr th {\n",
       "        vertical-align: top;\n",
       "    }\n",
       "\n",
       "    .dataframe thead th {\n",
       "        text-align: right;\n",
       "    }\n",
       "</style>\n",
       "<table border=\"1\" class=\"dataframe\">\n",
       "  <thead>\n",
       "    <tr style=\"text-align: right;\">\n",
       "      <th></th>\n",
       "      <th>Epochs</th>\n",
       "      <th>Iterations</th>\n",
       "      <th>Mean IoUs</th>\n",
       "      <th>Class 0 IoU</th>\n",
       "      <th>Class 1 IoU</th>\n",
       "      <th>Class 2 IoU</th>\n",
       "      <th>Class 3 IoU</th>\n",
       "      <th>Class 4 IoU</th>\n",
       "      <th>Class 5 IoU</th>\n",
       "      <th>Class 6 IoU</th>\n",
       "      <th>Mean Accs.</th>\n",
       "      <th>Overall Accs.</th>\n",
       "    </tr>\n",
       "  </thead>\n",
       "  <tbody>\n",
       "    <tr>\n",
       "      <th>0</th>\n",
       "      <td>1</td>\n",
       "      <td>100</td>\n",
       "      <td>0.131056</td>\n",
       "      <td>0.656511</td>\n",
       "      <td>0.074236</td>\n",
       "      <td>0.000000</td>\n",
       "      <td>0.0</td>\n",
       "      <td>0.005179</td>\n",
       "      <td>0.044816</td>\n",
       "      <td>0.136652</td>\n",
       "      <td>0.221894</td>\n",
       "      <td>0.647310</td>\n",
       "    </tr>\n",
       "    <tr>\n",
       "      <th>1</th>\n",
       "      <td>1</td>\n",
       "      <td>200</td>\n",
       "      <td>0.214653</td>\n",
       "      <td>0.743614</td>\n",
       "      <td>0.138592</td>\n",
       "      <td>0.000784</td>\n",
       "      <td>0.0</td>\n",
       "      <td>0.215197</td>\n",
       "      <td>0.211402</td>\n",
       "      <td>0.192982</td>\n",
       "      <td>0.268849</td>\n",
       "      <td>0.752786</td>\n",
       "    </tr>\n",
       "    <tr>\n",
       "      <th>2</th>\n",
       "      <td>1</td>\n",
       "      <td>300</td>\n",
       "      <td>0.314013</td>\n",
       "      <td>0.717476</td>\n",
       "      <td>0.266788</td>\n",
       "      <td>0.025828</td>\n",
       "      <td>0.0</td>\n",
       "      <td>0.353393</td>\n",
       "      <td>0.407833</td>\n",
       "      <td>0.426775</td>\n",
       "      <td>0.445334</td>\n",
       "      <td>0.755960</td>\n",
       "    </tr>\n",
       "    <tr>\n",
       "      <th>3</th>\n",
       "      <td>1</td>\n",
       "      <td>400</td>\n",
       "      <td>0.339475</td>\n",
       "      <td>0.771718</td>\n",
       "      <td>0.307315</td>\n",
       "      <td>0.032182</td>\n",
       "      <td>0.0</td>\n",
       "      <td>0.443085</td>\n",
       "      <td>0.407929</td>\n",
       "      <td>0.414096</td>\n",
       "      <td>0.410177</td>\n",
       "      <td>0.798983</td>\n",
       "    </tr>\n",
       "    <tr>\n",
       "      <th>4</th>\n",
       "      <td>1</td>\n",
       "      <td>500</td>\n",
       "      <td>0.355004</td>\n",
       "      <td>0.782315</td>\n",
       "      <td>0.203021</td>\n",
       "      <td>0.068599</td>\n",
       "      <td>0.0</td>\n",
       "      <td>0.488562</td>\n",
       "      <td>0.540817</td>\n",
       "      <td>0.401710</td>\n",
       "      <td>0.429812</td>\n",
       "      <td>0.807759</td>\n",
       "    </tr>\n",
       "  </tbody>\n",
       "</table>\n",
       "</div>"
      ],
      "text/plain": [
       "   Epochs  Iterations  Mean IoUs  Class 0 IoU  Class 1 IoU  Class 2 IoU  \\\n",
       "0       1         100   0.131056     0.656511     0.074236     0.000000   \n",
       "1       1         200   0.214653     0.743614     0.138592     0.000784   \n",
       "2       1         300   0.314013     0.717476     0.266788     0.025828   \n",
       "3       1         400   0.339475     0.771718     0.307315     0.032182   \n",
       "4       1         500   0.355004     0.782315     0.203021     0.068599   \n",
       "\n",
       "   Class 3 IoU  Class 4 IoU  Class 5 IoU  Class 6 IoU  Mean Accs.  \\\n",
       "0          0.0     0.005179     0.044816     0.136652    0.221894   \n",
       "1          0.0     0.215197     0.211402     0.192982    0.268849   \n",
       "2          0.0     0.353393     0.407833     0.426775    0.445334   \n",
       "3          0.0     0.443085     0.407929     0.414096    0.410177   \n",
       "4          0.0     0.488562     0.540817     0.401710    0.429812   \n",
       "\n",
       "   Overall Accs.  \n",
       "0       0.647310  \n",
       "1       0.752786  \n",
       "2       0.755960  \n",
       "3       0.798983  \n",
       "4       0.807759  "
      ]
     },
     "execution_count": 24,
     "metadata": {},
     "output_type": "execute_result"
    }
   ],
   "source": [
    "eval_results = pd.read_csv(os.path.join(progress_os_16, 'eval_results.csv'))\n",
    "eval_results.head()"
   ]
  },
  {
   "cell_type": "code",
   "execution_count": 26,
   "metadata": {},
   "outputs": [
    {
     "data": {
      "text/plain": [
       "[<matplotlib.lines.Line2D at 0x7fa8de2841c0>]"
      ]
     },
     "execution_count": 26,
     "metadata": {},
     "output_type": "execute_result"
    },
    {
     "data": {
      "image/png": "[encoded data removed]",
      "text/plain": [
       "<Figure size 432x288 with 1 Axes>"
      ]
     },
     "metadata": {
      "needs_background": "light"
     },
     "output_type": "display_data"
    }
   ],
   "source": [
    "plt.plot(eval_results.Iterations, eval_results['Mean IoUs'])"
   ]
  },
  {
   "cell_type": "code",
   "execution_count": 27,
   "metadata": {},
   "outputs": [
    {
     "data": {
      "text/plain": [
       "<matplotlib.axes._subplots.AxesSubplot at 0x7fa8de3ab520>"
      ]
     },
     "execution_count": 27,
     "metadata": {},
     "output_type": "execute_result"
    },
    {
     "data": {
      "image/png": "[encoded data removed]",
      "text/plain": [
       "<Figure size 432x288 with 1 Axes>"
      ]
     },
     "metadata": {
      "needs_background": "light"
     },
     "output_type": "display_data"
    }
   ],
   "source": [
    "eval_results[['Class 0 IoU', 'Class 1 IoU', 'Class 2 IoU', 'Class 3 IoU', \n",
    "              'Class 4 IoU', 'Class 5 IoU', 'Class 6 IoU']].plot()"
   ]
  },
  {
   "cell_type": "code",
   "execution_count": 28,
   "metadata": {},
   "outputs": [
    {
     "data": {
      "text/html": [
       "<div>\n",
       "<style scoped>\n",
       "    .dataframe tbody tr th:only-of-type {\n",
       "        vertical-align: middle;\n",
       "    }\n",
       "\n",
       "    .dataframe tbody tr th {\n",
       "        vertical-align: top;\n",
       "    }\n",
       "\n",
       "    .dataframe thead th {\n",
       "        text-align: right;\n",
       "    }\n",
       "</style>\n",
       "<table border=\"1\" class=\"dataframe\">\n",
       "  <thead>\n",
       "    <tr style=\"text-align: right;\">\n",
       "      <th></th>\n",
       "      <th>Epochs</th>\n",
       "      <th>Iterations</th>\n",
       "      <th>Mean IoUs</th>\n",
       "      <th>Class 0 IoU</th>\n",
       "      <th>Class 1 IoU</th>\n",
       "      <th>Class 2 IoU</th>\n",
       "      <th>Class 3 IoU</th>\n",
       "      <th>Class 4 IoU</th>\n",
       "      <th>Class 5 IoU</th>\n",
       "      <th>Class 6 IoU</th>\n",
       "      <th>Mean Accs.</th>\n",
       "      <th>Overall Accs.</th>\n",
       "    </tr>\n",
       "  </thead>\n",
       "  <tbody>\n",
       "    <tr>\n",
       "      <th>39</th>\n",
       "      <td>5</td>\n",
       "      <td>4000</td>\n",
       "      <td>0.43533</td>\n",
       "      <td>0.790752</td>\n",
       "      <td>0.447594</td>\n",
       "      <td>0.1834</td>\n",
       "      <td>0.000283</td>\n",
       "      <td>0.579994</td>\n",
       "      <td>0.578204</td>\n",
       "      <td>0.467085</td>\n",
       "      <td>0.533374</td>\n",
       "      <td>0.821867</td>\n",
       "    </tr>\n",
       "  </tbody>\n",
       "</table>\n",
       "</div>"
      ],
      "text/plain": [
       "    Epochs  Iterations  Mean IoUs  Class 0 IoU  Class 1 IoU  Class 2 IoU  \\\n",
       "39       5        4000    0.43533     0.790752     0.447594       0.1834   \n",
       "\n",
       "    Class 3 IoU  Class 4 IoU  Class 5 IoU  Class 6 IoU  Mean Accs.  \\\n",
       "39     0.000283     0.579994     0.578204     0.467085    0.533374   \n",
       "\n",
       "    Overall Accs.  \n",
       "39       0.821867  "
      ]
     },
     "execution_count": 28,
     "metadata": {},
     "output_type": "execute_result"
    }
   ],
   "source": [
    "eval_results.tail(1)"
   ]
  },
  {
   "cell_type": "code",
   "execution_count": 31,
   "metadata": {},
   "outputs": [],
   "source": [
    "confusion_matrix = np.load(os.path.join(progress_os_16, 'confusion_matrix.npy'))"
   ]
  },
  {
   "cell_type": "code",
   "execution_count": 33,
   "metadata": {},
   "outputs": [
    {
     "data": {
      "text/plain": [
       "array([[6.85900035e+08, 5.31571800e+06, 7.31318000e+05, 2.55874000e+05,\n",
       "        5.00195900e+06, 2.81434000e+06, 6.73926610e+07],\n",
       "       [1.04758470e+07, 1.40480930e+07, 0.00000000e+00, 1.50000000e+01,\n",
       "        4.67848000e+05, 5.99000000e+02, 1.83162000e+05],\n",
       "       [3.94038100e+06, 3.30000000e+01, 1.26549900e+06, 6.75500000e+03,\n",
       "        0.00000000e+00, 2.90000000e+01, 8.39463000e+05],\n",
       "       [3.26041000e+05, 0.00000000e+00, 1.68000000e+02, 1.67000000e+02,\n",
       "        0.00000000e+00, 9.00000000e+01, 1.64900000e+03],\n",
       "       [4.10456700e+06, 6.90000000e+01, 0.00000000e+00, 1.20000000e+01,\n",
       "        1.32941860e+07, 6.82700000e+03, 4.13700000e+03],\n",
       "       [4.00233400e+06, 4.20000000e+01, 8.70000000e+02, 0.00000000e+00,\n",
       "        2.83000000e+02, 1.11676390e+07, 1.12222700e+06],\n",
       "       [7.71409570e+07, 8.94395000e+05, 1.15714000e+05, 1.50000000e+01,\n",
       "        4.13490000e+04, 1.99089000e+05, 1.29660810e+08]])"
      ]
     },
     "execution_count": 33,
     "metadata": {},
     "output_type": "execute_result"
    }
   ],
   "source": [
    "confusion_matrix"
   ]
  },
  {
   "cell_type": "code",
   "execution_count": 37,
   "metadata": {
    "scrolled": true
   },
   "outputs": [
    {
     "data": {
      "text/plain": [
       "<matplotlib.axes._subplots.AxesSubplot at 0x7fa8dfd13280>"
      ]
     },
     "execution_count": 37,
     "metadata": {},
     "output_type": "execute_result"
    },
    {
     "data": {
      "image/png": "[encoded data removed]",
      "text/plain": [
       "<Figure size 432x288 with 2 Axes>"
      ]
     },
     "metadata": {
      "needs_background": "light"
     },
     "output_type": "display_data"
    }
   ],
   "source": [
    "sn.heatmap(confusion_matrix, annot=False)"
   ]
  },
  {
   "cell_type": "code",
   "execution_count": null,
   "metadata": {},
   "outputs": [],
   "source": [
    "import numpy as np"
   ]
  },
  {
   "cell_type": "markdown",
   "metadata": {},
   "source": [
    "Check how the model did with sparse classes"
   ]
  },
  {
   "cell_type": "code",
   "execution_count": 22,
   "metadata": {},
   "outputs": [],
   "source": [
    "zeros = np.zeros((512,512,4))"
   ]
  },
  {
   "cell_type": "code",
   "execution_count": 23,
   "metadata": {},
   "outputs": [
    {
     "data": {
      "text/plain": [
       "(512, 512, 4)"
      ]
     },
     "execution_count": 23,
     "metadata": {},
     "output_type": "execute_result"
    }
   ],
   "source": [
    "zeros.shape"
   ]
  },
  {
   "cell_type": "code",
   "execution_count": 24,
   "metadata": {},
   "outputs": [
    {
     "name": "stdout",
     "output_type": "stream",
     "text": [
      "(512, 512, 3)\n",
      "(512, 512, 3)\n",
      "(512, 512, 3)\n",
      "(512, 512, 3)\n"
     ]
    }
   ],
   "source": [
    "for i in range(0,4):\n",
    "    zeros_ = np.delete(zeros,i,2)\n",
    "    print(zeros_.shape)"
   ]
  },
  {
   "cell_type": "code",
   "execution_count": null,
   "metadata": {},
   "outputs": [],
   "source": []
  }
 ],
 "metadata": {
  "kernelspec": {
   "display_name": "Python 3",
   "language": "python",
   "name": "python3"
  },
  "language_info": {
   "codemirror_mode": {
    "name": "ipython",
    "version": 3
   },
   "file_extension": ".py",
   "mimetype": "text/x-python",
   "name": "python",
   "nbconvert_exporter": "python",
   "pygments_lexer": "ipython3",
   "version": "3.8.3"

  }
 },
 "nbformat": 4,
 "nbformat_minor": 4
}
